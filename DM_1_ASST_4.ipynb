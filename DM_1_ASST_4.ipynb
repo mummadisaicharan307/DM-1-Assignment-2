{
 "cells": [
  {
   "cell_type": "code",
   "execution_count": 2,
   "metadata": {
    "id": "adi7Sgoxf4l2",
    "tags": []
   },
   "outputs": [
    {
     "ename": "ModuleNotFoundError",
     "evalue": "No module named 'keras'",
     "output_type": "error",
     "traceback": [
      "\u001b[0;31m---------------------------------------------------------------------------\u001b[0m",
      "\u001b[0;31mModuleNotFoundError\u001b[0m                       Traceback (most recent call last)",
      "Cell \u001b[0;32mIn[2], line 3\u001b[0m\n\u001b[1;32m      1\u001b[0m \u001b[38;5;28;01mimport\u001b[39;00m \u001b[38;5;21;01mos\u001b[39;00m\n\u001b[1;32m      2\u001b[0m \u001b[38;5;28;01mimport\u001b[39;00m \u001b[38;5;21;01mnumpy\u001b[39;00m \u001b[38;5;28;01mas\u001b[39;00m \u001b[38;5;21;01mnp\u001b[39;00m\u001b[38;5;241m,\u001b[39m \u001b[38;5;21;01mpandas\u001b[39;00m \u001b[38;5;28;01mas\u001b[39;00m \u001b[38;5;21;01mpd\u001b[39;00m\n\u001b[0;32m----> 3\u001b[0m \u001b[38;5;28;01mimport\u001b[39;00m \u001b[38;5;21;01mkeras\u001b[39;00m\n\u001b[1;32m      5\u001b[0m \u001b[38;5;28;01mimport\u001b[39;00m \u001b[38;5;21;01mtorch\u001b[39;00m\n\u001b[1;32m      6\u001b[0m \u001b[38;5;28;01mfrom\u001b[39;00m \u001b[38;5;21;01mtorch\u001b[39;00m \u001b[38;5;28;01mimport\u001b[39;00m nn, optim\n",
      "\u001b[0;31mModuleNotFoundError\u001b[0m: No module named 'keras'"
     ]
    }
   ],
   "source": [
    "import os\n",
    "import numpy as np, pandas as pd\n",
    "import keras\n",
    "\n",
    "import torch\n",
    "from torch import nn, optim\n",
    "from torchvision import datasets, models, transforms\n",
    "\n",
    "import warnings\n",
    "warnings.filterwarnings('ignore')"
   ]
  },
  {
   "cell_type": "code",
   "execution_count": null,
   "metadata": {
    "id": "rIksHovA9xy3"
   },
   "outputs": [],
   "source": [
    "data_directory = '/content/drive/MyDrive/Dogs_Dataset/images_cropped'"
   ]
  },
  {
   "cell_type": "code",
   "execution_count": null,
   "metadata": {
    "id": "YYueOnDZHa_E"
   },
   "outputs": [],
   "source": [
    "true_labels = []\n",
    "k = 0\n",
    "for i in os.listdir(data_directory):\n",
    "  for j in os.listdir(os.path.join(data_directory,i)):\n",
    "    true_labels.append(k)\n",
    "  k+=1\n",
    "true_labels = np.array(true_labels)"
   ]
  },
  {
   "cell_type": "markdown",
   "metadata": {
    "id": "v5quyBdtGLlb"
   },
   "source": [
    "**Resize**"
   ]
  },
  {
   "cell_type": "code",
   "execution_count": null,
   "metadata": {
    "id": "DIEcqpjE_EZg"
   },
   "outputs": [],
   "source": [
    "transforms = transforms.Compose([\n",
    "                              transforms.Resize(224),\n",
    "                              transforms.ToTensor(),\n",
    "                             ])"
   ]
  },
  {
   "cell_type": "code",
   "execution_count": null,
   "metadata": {
    "id": "ECWCNnCE-7Cu"
   },
   "outputs": [],
   "source": [
    "image_datasets = datasets.ImageFolder(data_directory, transform=transforms)"
   ]
  },
  {
   "cell_type": "code",
   "execution_count": null,
   "metadata": {
    "id": "u9hC9owc_KjO"
   },
   "outputs": [],
   "source": [
    "dataloaders  = torch.utils.data.DataLoader(image_datasets, batch_size=1, shuffle = False)"
   ]
  },
  {
   "cell_type": "markdown",
   "metadata": {
    "id": "5K3YvzdrGOuY"
   },
   "source": [
    "**Normalize**"
   ]
  },
  {
   "cell_type": "code",
   "execution_count": null,
   "metadata": {
    "id": "5x5wXmXw_VgX"
   },
   "outputs": [],
   "source": [
    "norm_data = []\n",
    "for i in dataloaders:\n",
    "  mean,std,var = torch.mean(i[0]),torch.std(i[0]),torch.var(i[0])\n",
    "  t = (i[0]-mean)/std\n",
    "  norm_data.append(t)"
   ]
  },
  {
   "cell_type": "markdown",
   "metadata": {
    "id": "Hv7IlaXUHorR"
   },
   "source": [
    "**Extract Features**"
   ]
  },
  {
   "cell_type": "code",
   "execution_count": null,
   "metadata": {
    "colab": {
     "base_uri": "https://localhost:8080/"
    },
    "id": "IMH68gYYF9Vv",
    "outputId": "874f9490-6e41-4872-c962-996126f820c9"
   },
   "outputs": [],
   "source": [
    "resnet18 = models.resnet18(pretrained=True)\n",
    "resnet18 = torch.nn.Sequential(*(list(resnet18.children())[:-1]))\n",
    "\n",
    "resnet18.eval()"
   ]
  },
  {
   "cell_type": "code",
   "execution_count": null,
   "metadata": {
    "id": "L70dQiRJIS2-"
   },
   "outputs": [],
   "source": [
    "features_extracted = []\n",
    "for i in norm_data:\n",
    "  with torch.no_grad():\n",
    "    features = resnet18(i)\n",
    "  features_extracted.append(features)"
   ]
  },
  {
   "cell_type": "markdown",
   "metadata": {
    "id": "F2OvkvGqPen5"
   },
   "source": [
    "**Dimension Reduction**"
   ]
  },
  {
   "cell_type": "code",
   "execution_count": null,
   "metadata": {
    "id": "i_xye57FI4GY"
   },
   "outputs": [],
   "source": [
    "features_array = []\n",
    "for i in features_extracted:\n",
    "  output_tensor = torch.nn.functional.adaptive_avg_pool2d(i, (1, 1))\n",
    "  output_tensor = output_tensor.view(512)\n",
    "  output_tensor = np.array(output_tensor)\n",
    "  features_array.append(output_tensor)"
   ]
  },
  {
   "cell_type": "code",
   "execution_count": null,
   "metadata": {
    "colab": {
     "base_uri": "https://localhost:8080/"
    },
    "id": "eWNKtZ00QC_G",
    "outputId": "c10da4b8-f797-4e91-f161-636298e75cf3"
   },
   "outputs": [],
   "source": [
    "features_array = np.array(features_array)\n",
    "features_array.shape"
   ]
  },
  {
   "cell_type": "markdown",
   "metadata": {
    "id": "iqbuczAAP3yc"
   },
   "source": [
    "**Clustering**"
   ]
  },
  {
   "cell_type": "markdown",
   "metadata": {
    "id": "DaBJhD8kP7wp"
   },
   "source": [
    "KMeans"
   ]
  },
  {
   "cell_type": "code",
   "execution_count": null,
   "metadata": {
    "id": "Epy5XFNgQnyb"
   },
   "outputs": [],
   "source": [
    "from sklearn.cluster import KMeans\n",
    "kmeans_1 = KMeans(n_clusters=4, random_state=0, init=\"random\", n_init = 'auto').fit(features_array)\n",
    "kmeans_2 = KMeans(n_clusters=4, random_state=0, init=\"k-means++\", n_init = 'auto').fit(features_array)"
   ]
  },
  {
   "cell_type": "code",
   "execution_count": null,
   "metadata": {
    "id": "USN-GHh0T04w"
   },
   "outputs": [],
   "source": [
    "from sklearn.cluster import BisectingKMeans\n",
    "kmeans_3 = BisectingKMeans(n_clusters=4,init='random').fit(features_array)"
   ]
  },
  {
   "cell_type": "code",
   "execution_count": null,
   "metadata": {
    "id": "2Raxnjq9UPm3"
   },
   "outputs": [],
   "source": [
    "from sklearn.cluster import SpectralClustering\n",
    "spectral = SpectralClustering(n_clusters=4).fit(features_array)"
   ]
  },
  {
   "cell_type": "markdown",
   "metadata": {
    "id": "92RHQ0FCSHNl"
   },
   "source": [
    "**DBSCAN**"
   ]
  },
  {
   "cell_type": "code",
   "execution_count": null,
   "metadata": {
    "colab": {
     "base_uri": "https://localhost:8080/"
    },
    "id": "lXkexvwLU7qX",
    "outputId": "78dd6963-8d86-4505-9e85-d5e11fb01efa"
   },
   "outputs": [],
   "source": [
    "from sklearn.cluster import DBSCAN\n",
    "\n",
    "db = DBSCAN(eps=7, min_samples=2).fit(features_array)\n",
    "labels = db.labels_\n",
    "n_clusters_ = len(set(labels)) - (1 if -1 in labels else 0)\n",
    "print(\"Number of clusters:\",n_clusters_)"
   ]
  },
  {
   "cell_type": "markdown",
   "metadata": {
    "id": "OwisT_LIRuqb"
   },
   "source": [
    "For eps = 7 and min_samples = 2, n_clusters = 4"
   ]
  },
  {
   "cell_type": "markdown",
   "metadata": {
    "id": "V56PKbZBSKfj"
   },
   "source": [
    "**Agglomerative Clustering**"
   ]
  },
  {
   "cell_type": "code",
   "execution_count": null,
   "metadata": {
    "id": "knuCsWm5lfx1"
   },
   "outputs": [],
   "source": [
    "from sklearn.cluster import AgglomerativeClustering\n",
    "ag_single = AgglomerativeClustering(n_clusters=4, linkage = 'single').fit(features_array)\n",
    "ag_complete = AgglomerativeClustering(n_clusters=4, linkage = 'complete').fit(features_array)\n",
    "ag_group = AgglomerativeClustering(n_clusters=4, linkage = 'average').fit(features_array)\n",
    "ag_ward = AgglomerativeClustering(n_clusters=4, linkage = 'ward').fit(features_array)"
   ]
  },
  {
   "cell_type": "markdown",
   "metadata": {
    "id": "xGWXL3RaXA6e"
   },
   "source": [
    "**Clustering Evaluation**"
   ]
  },
  {
   "cell_type": "code",
   "execution_count": null,
   "metadata": {
    "id": "iv2Sd0ITSYsl"
   },
   "outputs": [],
   "source": [
    "cluster_models = [kmeans_1,kmeans_2,kmeans_3,spectral,db,ag_single,ag_complete,ag_group,ag_ward]\n",
    "fms = {'KMeans-Random':0,\n",
    "       'KMeans-kmeans++':0,\n",
    "       'Bisecting KMeans':0,\n",
    "       'Spectral Clustering':0,\n",
    "       'DBSCAN':0,\n",
    "       'Agglomerative Clustering - single':0,\n",
    "       'Agglomerative Clustering - complete':0,\n",
    "       'Agglomerative Clustering - average':0,\n",
    "       'Agglomerative Clustering - ward':0}\n",
    "ss = {'KMeans-Random':0,\n",
    "       'KMeans-kmeans++':0,\n",
    "       'Bisecting KMeans':0,\n",
    "       'Spectral Clustering':0,\n",
    "       'DBSCAN':0,\n",
    "       'Agglomerative Clustering - single':0,\n",
    "       'Agglomerative Clustering - complete':0,\n",
    "       'Agglomerative Clustering - average':0,\n",
    "       'Agglomerative Clustering - ward':0}"
   ]
  },
  {
   "cell_type": "code",
   "execution_count": null,
   "metadata": {
    "id": "ObfeLyNGTnak"
   },
   "outputs": [],
   "source": [
    "from sklearn.metrics import fowlkes_mallows_score\n",
    "from sklearn.metrics import silhouette_score\n",
    "for i,j,k in zip(cluster_models,fms,ss):\n",
    "  predicts = i.fit_predict(features_array)\n",
    "  fm_score = fowlkes_mallows_score(true_labels,predicts)\n",
    "  s_score = silhouette_score(np.array(true_labels).reshape(-1,1),predicts)\n",
    "  fms[j] = fm_score\n",
    "  ss[k] = s_score"
   ]
  },
  {
   "cell_type": "markdown",
   "metadata": {
    "id": "vTqEa3wJYGTN"
   },
   "source": [
    "**Ranking best to worst on fowlkes-mallows_score**"
   ]
  },
  {
   "cell_type": "code",
   "execution_count": null,
   "metadata": {
    "colab": {
     "base_uri": "https://localhost:8080/"
    },
    "id": "HLvZtF5EVngl",
    "outputId": "5be8becb-6535-4d07-9d50-796fa1b77fca"
   },
   "outputs": [],
   "source": [
    "sorted(fms.items(), key=lambda item: item[1])[::-1]"
   ]
  },
  {
   "cell_type": "markdown",
   "metadata": {
    "id": "Ar8duX8qXLaA"
   },
   "source": [
    "**Ranking best to worst on Silhouette score**"
   ]
  },
  {
   "cell_type": "code",
   "execution_count": null,
   "metadata": {
    "colab": {
     "base_uri": "https://localhost:8080/"
    },
    "id": "qj6Mk-eNS1vB",
    "outputId": "b45b44ad-1080-4a77-fecb-11cf02e32527",
    "tags": []
   },
   "outputs": [],
   "source": [
    "sorted(ss.items(), key=lambda item: item[1])[::-1]"
   ]
  }
 ],
 "metadata": {
  "colab": {
   "provenance": []
  },
  "kernelspec": {
   "display_name": "Python 3 (ipykernel)",
   "language": "python",
   "name": "python3"
  },
  "language_info": {
   "codemirror_mode": {
    "name": "ipython",
    "version": 3
   },
   "file_extension": ".py",
   "mimetype": "text/x-python",
   "name": "python",
   "nbconvert_exporter": "python",
   "pygments_lexer": "ipython3",
   "version": "3.11.4"
  }
 },
 "nbformat": 4,
 "nbformat_minor": 4
}
